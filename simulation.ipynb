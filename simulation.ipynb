{
 "cells": [
  {
   "cell_type": "code",
   "execution_count": 19,
   "metadata": {},
   "outputs": [
    {
     "data": {
      "text/plain": [
       "0.1684"
      ]
     },
     "execution_count": 19,
     "metadata": {},
     "output_type": "execute_result"
    }
   ],
   "source": [
    "import numpy as np\n",
    "import pandas as pd\n",
    "\n",
    "sim_num = 10_000\n",
    "\n",
    "# How likely is it that you roll doubles when rolling two dice?\n",
    "sim = np.random.randint(1,7, size=(sim_num, 1))\n",
    "sim2 = np.random.randint(1,7, size=(sim_num, 1))\n",
    "rolled_double = sim == sim2\n",
    "prob = np.sum(rolled_double)/sim_num\n",
    "\n",
    "prob\n",
    "\n"
   ]
  },
  {
   "cell_type": "code",
   "execution_count": 28,
   "metadata": {},
   "outputs": [
    {
     "data": {
      "text/plain": [
       "0.6306"
      ]
     },
     "execution_count": 28,
     "metadata": {},
     "output_type": "execute_result"
    }
   ],
   "source": [
    "\n",
    "# If you flip 8 coins, what is the probability of getting exactly 3 heads? \n",
    "(np.random.choice([0,1], size = (80000)).reshape(10000,8).sum(axis=1)==3).sum()/10000\n",
    "\n",
    "# What is the probability of getting more than 3 heads?\n",
    "(np.random.choice([0,1], size = (80000)).reshape(10000,8).sum(axis=1)>3).sum()/10000\n",
    "\n",
    "\n",
    "\n"
   ]
  },
  {
   "cell_type": "code",
   "execution_count": 67,
   "metadata": {},
   "outputs": [
    {
     "data": {
      "text/plain": [
       "0.0633"
      ]
     },
     "execution_count": 67,
     "metadata": {},
     "output_type": "execute_result"
    }
   ],
   "source": [
    "\n",
    "\n",
    "# There are approximitely 3 web development cohorts for every 1 data science cohort at Codeup. \n",
    "# Assuming that Codeup randomly selects an alumni to put on a billboard,\n",
    "#  what are the odds that the two billboards I drive past both have data science students on them?\n",
    "# chance of data science cohort alumni getting selected = 1/4 \n",
    "\n",
    "(((np.random.uniform(size=(10_000,2))<=0.25).sum(axis=1))==2).mean()"
   ]
  },
  {
   "cell_type": "code",
   "execution_count": 207,
   "metadata": {},
   "outputs": [
    {
     "data": {
      "text/plain": [
       "0.931"
      ]
     },
     "execution_count": 207,
     "metadata": {},
     "output_type": "execute_result"
    }
   ],
   "source": [
    "# Codeup students buy, on average, 3 poptart packages with a standard deviation of 1.5 a day from the snack vending machine. \n",
    "# If on monday the machine is restocked with 17 poptart packages, \n",
    "# how likely is it that I will be able to buy some poptarts on Friday afternoon? (Remember, \n",
    "# if you have mean and standard deviation, use the np.random.normal)\n",
    "\n",
    "#3+- 1.5\n",
    "poptarts = (np.random.normal(3, 1.5, size=(10_000,4)).round())\n",
    "poptarts = np.where(poptarts<0,0,poptarts)\n",
    "(poptarts.sum(axis=1)<=16).mean()"
   ]
  },
  {
   "cell_type": "code",
   "execution_count": 86,
   "metadata": {},
   "outputs": [
    {
     "data": {
      "text/plain": [
       "0.2088"
      ]
     },
     "execution_count": 86,
     "metadata": {},
     "output_type": "execute_result"
    }
   ],
   "source": [
    "\n",
    "# Compare Heights\n",
    "\n",
    "# Men have an average height of 178 cm and standard deviation of 8cm.\n",
    "# Women have a mean of 170, sd = 6cm.\n",
    "# Since you have means and standard deviations, you can use np.random.normal to generate observations.\n",
    "# If a man and woman are chosen at random, P(woman taller than man)?\n",
    "\n",
    "man = np.random.normal(178, 8, size=(10_000))\n",
    "woman = np.random.normal(170, 6, size=(10_000))\n",
    "compare = woman > man\n",
    "compare.mean()"
   ]
  },
  {
   "cell_type": "code",
   "execution_count": 157,
   "metadata": {},
   "outputs": [
    {
     "data": {
      "text/plain": [
       "896.39789"
      ]
     },
     "execution_count": 157,
     "metadata": {},
     "output_type": "execute_result"
    }
   ],
   "source": [
    "\n",
    "# When installing anaconda on a student's computer, there's a 1 in 250 chance that the download is corrupted and the installation fails. \n",
    "# What are the odds that after having 50 students download anaconda, no one has an installation issue? 100 students?\n",
    "1/250\n",
    "(np.random.uniform(size=(10_000, 50)) > 0.004).mean() # 99%\n",
    "\n",
    "(np.random.uniform(size=(10_0000, 900)) > 0.004).sum(axis=1).mean() #99%\n",
    "\n",
    "# # What is the probability that we observe an installation issue within the first 150 students that download anaconda?\n",
    "(np.random.uniform(size=(10_0000, 150)) < 0.004).mean() #0.4%\n",
    "\n",
    "\n",
    "# # How likely is it that 450 students all download anaconda without an issue?\n",
    "(np.random.uniform(size=(10_0000, 450)) > 0.004).mean() #0.3977%\n"
   ]
  },
  {
   "cell_type": "code",
   "execution_count": 209,
   "metadata": {},
   "outputs": [
    {
     "data": {
      "text/plain": [
       "0.02688"
      ]
     },
     "execution_count": 209,
     "metadata": {},
     "output_type": "execute_result"
    }
   ],
   "source": [
    "\n",
    "# There's a 70% chance on any given day that there will be at least one food truck at Travis Park. \n",
    "# However, you haven't seen a food truck there in 3 days. How unlikely is this?\n",
    "(((np.random.uniform(size=(10_0000, 3)) < 0.3).sum(axis=1))==3).mean()\n",
    "\n",
    "# How likely is it that a food truck will show up sometime this week?\n",
    "((np.random.uniform(size=(10_0000, 7)) < 0.7).sum(axis=1) > 1).mean()\n"
   ]
  },
  {
   "cell_type": "code",
   "execution_count": 201,
   "metadata": {},
   "outputs": [
    {
     "data": {
      "text/plain": [
       "0.5054"
      ]
     },
     "execution_count": 201,
     "metadata": {},
     "output_type": "execute_result"
    }
   ],
   "source": [
    "\n",
    "# If 23 people are in the same room, what are the odds that two of them share a birthday? What if it's 20 people? 40?\n",
    "sim = np.random.choice(365, size=(10_000, 23))\n",
    "\n",
    "new_list=[]\n",
    "def has_duplicate(sim):\n",
    "    for n in sim:\n",
    "        if len(n) != len(set(n)):\n",
    "            new_list.append(len(n) != len(set(n)))\n",
    "        else:\n",
    "            new_list.append(False)\n",
    "\n",
    "\n",
    "has_duplicate(sim)\n",
    "\n",
    "np.array(new_list).mean()\n",
    "#0.5054 chance of 2 people having same birthday out of 23 people\n"
   ]
  },
  {
   "cell_type": "code",
   "execution_count": 202,
   "metadata": {},
   "outputs": [
    {
     "data": {
      "text/plain": [
       "0.4075"
      ]
     },
     "execution_count": 202,
     "metadata": {},
     "output_type": "execute_result"
    }
   ],
   "source": [
    "\n",
    "sim = np.random.choice(365, size=(10_000, 20))\n",
    "\n",
    "new_list=[]\n",
    "def has_duplicate(sim):\n",
    "    for n in sim:\n",
    "        if len(n) != len(set(n)):\n",
    "            new_list.append(len(n) != len(set(n)))\n",
    "        else:\n",
    "            new_list.append(False)\n",
    "\n",
    "\n",
    "has_duplicate(sim)\n",
    "\n",
    "np.array(new_list).mean()\n",
    "#0.4075 chance of 2 people having same birthday out of 20 people\n"
   ]
  },
  {
   "cell_type": "code",
   "execution_count": 203,
   "metadata": {},
   "outputs": [
    {
     "data": {
      "text/plain": [
       "0.8909"
      ]
     },
     "execution_count": 203,
     "metadata": {},
     "output_type": "execute_result"
    }
   ],
   "source": [
    "sim = np.random.choice(365, size=(10_000, 40))\n",
    "\n",
    "new_list=[]\n",
    "def has_duplicate(sim):\n",
    "    for n in sim:\n",
    "        if len(n) != len(set(n)):\n",
    "            new_list.append(len(n) != len(set(n)))\n",
    "        else:\n",
    "            new_list.append(False)\n",
    "\n",
    "\n",
    "has_duplicate(sim)\n",
    "\n",
    "np.array(new_list).mean()\n",
    "#0.8909 chance of 2 people having same birthday out of 40 people\n"
   ]
  },
  {
   "cell_type": "markdown",
   "metadata": {},
   "source": []
  }
 ],
 "metadata": {
  "interpreter": {
   "hash": "38cca0c38332a56087b24af0bc80247f4fced29cb4f7f437d91dc159adec9c4e"
  },
  "kernelspec": {
   "display_name": "Python 3.9.7 64-bit ('base': conda)",
   "language": "python",
   "name": "python3"
  },
  "language_info": {
   "codemirror_mode": {
    "name": "ipython",
    "version": 3
   },
   "file_extension": ".py",
   "mimetype": "text/x-python",
   "name": "python",
   "nbconvert_exporter": "python",
   "pygments_lexer": "ipython3",
   "version": "3.9.7"
  },
  "orig_nbformat": 4
 },
 "nbformat": 4,
 "nbformat_minor": 2
}
