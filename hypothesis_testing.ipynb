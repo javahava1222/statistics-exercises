{
 "cells": [
  {
   "cell_type": "code",
   "execution_count": null,
   "metadata": {},
   "outputs": [],
   "source": [
    "# For each of the following questions, formulate a null and alternative hypothesis (be as specific as you can be), \n",
    "# then give an example of what a true positive, true negative, type I and type II errors would look like.\n",
    "#  Note that some of the questions are intentionally phrased in a vague way.\n",
    "#  It is your job to reword these as more precise questions that could be tested.\n",
    "\n",
    "\n"
   ]
  },
  {
   "cell_type": "code",
   "execution_count": null,
   "metadata": {},
   "outputs": [],
   "source": [
    "\n",
    "Has the network latency gone up since we switched internet service providers?\n",
    "\n",
    "# H0 (Null hypothese) - There is no difference in the network latency after switching the internet service providers.\n",
    "# H1 (Alternative hypothesis) - There is a positive difference in the network latency after switching the internet service providers.\n",
    "\n",
    "# Example of true positive - True positive rejects the H0 (null-hypothesis)when the H0 is false.\n",
    "So, an example of this would be...\n",
    "     When there is a difference in the network latency after changing the internet service providers\n",
    "    the hypothesis that there is no difference in latency is rejected\n",
    "\n",
    "# Example of true negative - True negative accepts the H0 when H0 is true.\n",
    "So, an example of this would be... \n",
    "    When there is no difference in the latency, the hypothesis that there is no latency is accepted\n",
    "\n",
    "# Example of Type I error - Type I error rejects the H0 when the H0 is true.\n",
    "So, an example of this would be...\n",
    "    When there is no difference in the latency, the hypothesis that there is no difference is rejected\n",
    "\n",
    "# Example of Type II error - Type II error accepts the H0 when the H0 is false.\n",
    "So, an example of this would be...\n",
    "    When there is difference in the latency, the hypothesis that there is no difference is accepted."
   ]
  },
  {
   "cell_type": "code",
   "execution_count": null,
   "metadata": {},
   "outputs": [],
   "source": [
    "\n",
    "Is the website redesign any good?\n",
    "\n",
    "# Null hypothese -  The website redesign is not as good as the previous one\n",
    "# Alternative hypothesis - The website redesign is better than the previous design.\n",
    "# Example of true positive - The redesign is better than the previous one and rejects the previous design.\n",
    "# Example of true negative - The website redesign is not as good as the previous one and keeps the previous design.\n",
    "# Type I error - The website redesign is not as good, but keeps the redesign anyway.\n",
    "# Type II error - The website redesign is better, but keeps the original design."
   ]
  },
  {
   "cell_type": "code",
   "execution_count": null,
   "metadata": {},
   "outputs": [],
   "source": [
    "\n",
    "Is our television ad driving more sales?\n",
    "\n",
    "# Null hypothese - The television ad is not driving more sales.\n",
    "# Alternative hypothesis - The television ad is driving more sales.\n",
    "# Example of true positive -   The ads are driving more sales, and keep using the ads.\n",
    "# Example of true negative - The ads are not driving more sales, and withdraw from ads.\n",
    "# Type I error - The ads are not driving more sales, but keep using the ads.\n",
    "# Type II error -  The ads are driving more sales, but withdraw from ads.\n"
   ]
  }
 ],
 "metadata": {
  "language_info": {
   "name": "python"
  },
  "orig_nbformat": 4
 },
 "nbformat": 4,
 "nbformat_minor": 2
}
