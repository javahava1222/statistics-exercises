{
 "cells": [
  {
   "cell_type": "code",
   "execution_count": 142,
   "metadata": {},
   "outputs": [],
   "source": [
    "import matplotlib.pyplot as plt\n",
    "import numpy as np\n",
    "import pandas as pd\n",
    "from scipy import stats\n",
    "# import viz # curriculum viz example code\n",
    "\n",
    "np.random.seed(123)"
   ]
  },
  {
   "cell_type": "code",
   "execution_count": 99,
   "metadata": {},
   "outputs": [
    {
     "data": {
      "text/plain": [
       "0.40600584970983794"
      ]
     },
     "execution_count": 99,
     "metadata": {},
     "output_type": "execute_result"
    },
    {
     "data": {
      "image/png": "[encoded data removed]",
      "text/plain": [
       "<Figure size 432x288 with 1 Axes>"
      ]
     },
     "metadata": {
      "needs_background": "light"
     },
     "output_type": "display_data"
    }
   ],
   "source": [
    "\n",
    "#  A bank found that the average number of cars waiting during the noon hour at a drive-up window follows a \n",
    "# Poisson distribution with a mean of 2 cars. Make a chart of this distribution and \n",
    "# answer these questions concerning the probability of cars waiting at the drive-up window.\n",
    "stats.poisson(2)\n",
    "\n",
    "#or\n",
    "\n",
    "pd.Series(stats.poisson(2).rvs(10_000)).value_counts().sort_index().plot.bar()\n",
    "\n",
    "plt.title('Poisson distribution')\n",
    "plt.xlabel('Number of cars')\n",
    "plt.ylabel('Number of cases')\n",
    "\n",
    "# What is the probability that no cars drive up in the noon hour? -- 0.1353\n",
    "(pd.Series(stats.poisson(2).rvs(10_000)) == 0).mean()\n",
    "\n",
    "stats.poisson(2).pmf(0)\n",
    "\n",
    "# # What is the probability that 3 or more cars come through the drive through? --0.3233\n",
    "(pd.Series(stats.poisson(2).rvs(10_000)) >= 3).mean()\n",
    "\n",
    "stats.poisson(2).sf(2)\n",
    "# # How likely is it that the drive through gets at least 1 car?-- 0.4060\n",
    "(pd.Series(stats.poisson(2).rvs(10_000)) < 2).mean()\n",
    "\n",
    "stats.poisson(2).cdf(1)"
   ]
  },
  {
   "cell_type": "code",
   "execution_count": 178,
   "metadata": {},
   "outputs": [
    {
     "data": {
      "text/plain": [
       "0.0509"
      ]
     },
     "execution_count": 178,
     "metadata": {},
     "output_type": "execute_result"
    }
   ],
   "source": [
    "# arr = stats.norm(3, 0.3).rvs(10_000) > 3.49\n",
    "# arr_sorted = sorted(arr)\n",
    "# arr_sorted\n",
    "\n",
    "# score = pd.Series(stats.norm(3, 0.3).rvs(10_000))\n",
    "# percentile = score.apply(lambda x: stats.percentileofscore(arr_sorted, x))\n",
    "# percentile.sort_value()\n",
    "# df = pd.DataFrame({'data': score, 'percentile': percentile})\n",
    "# sorted_value = df.sort_values(by = 'data')\n",
    "# sorted_value.where(sorted_value.percentile >= 95, [True, False])\n",
    "# series =  np.random.normal(3,0.3, size=(10_000))\n",
    "# stats.percentileofscore(arr_sorted, series)"
   ]
  },
  {
   "cell_type": "code",
   "execution_count": 189,
   "metadata": {},
   "outputs": [
    {
     "data": {
      "text/plain": [
       "0.955"
      ]
     },
     "execution_count": 189,
     "metadata": {},
     "output_type": "execute_result"
    }
   ],
   "source": [
    "\n",
    "#  Grades of State University graduates are normally distributed with a mean of 3.0 and a standard deviation of .3. Calculate the following:\n",
    "# What grade point average is required to be in the top 5% of the graduating class? 3.49 or above\n",
    "\n",
    "stats.norm(3, 0.3).isf(.05)\n",
    "\n",
    "((np.random.normal(3, 0.3, size = 10000)) >= 3.49).mean() # --0.0516\n",
    "\n",
    "\n",
    "# # What GPA constitutes the bottom 15% of the class? --2.69\n",
    "\n",
    "stats.norm(3, 0.3).ppf(.15)\n",
    "\n",
    "((np.random.normal(3, 0.3, size = 10000)) < 2.69).mean() # --0.154\n",
    "\n",
    "# # An eccentric alumnus left scholarship money for students in the third decile from the bottom of their class. \n",
    "# # Determine the range of the third decile. Would a student with a 2.8 grade point average qualify for this scholarship?\n",
    "\n",
    "# -- 3rd decile starts below 2.84, so 2.8 GPA would qualify\n",
    "stats.norm(3, 0.3).ppf(.3, .2)\n",
    "\n",
    "(np.random.normal(3, 0.3, size = 10000) < 2.84).mean() # -- 0.293\n"
   ]
  },
  {
   "cell_type": "code",
   "execution_count": null,
   "metadata": {},
   "outputs": [],
   "source": [
    "\n",
    "# # If I have a GPA of 3.5, what percentile am I in? -- 95.22 percentile\n",
    "stats.norm(3, 0.3).cdf(3.5)\n",
    "\n",
    "(np.random.normal(3, 0.3, 10_000) < 3.5).mean() # -- 0.955\n"
   ]
  },
  {
   "cell_type": "code",
   "execution_count": 190,
   "metadata": {},
   "outputs": [
    {
     "data": {
      "text/plain": [
       "0.13975823631416445"
      ]
     },
     "execution_count": 190,
     "metadata": {},
     "output_type": "execute_result"
    }
   ],
   "source": [
    "\n",
    "# A marketing website has an average click-through rate of 2%. One day they observe 4326 visitors and 97 click-throughs. \n",
    "# How likely is it that this many people or more click through? --0.1398\n",
    "click_rate =  0.02\n",
    "n_trial = 4326\n",
    "# probability of 97 or more clicks is same as the probability of clicks more than 96.\n",
    "stats.binom(n_trial, click_rate).sf(96)\n"
   ]
  },
  {
   "cell_type": "code",
   "execution_count": 198,
   "metadata": {},
   "outputs": [
    {
     "data": {
      "text/plain": [
       "array([['not opened', 'not opened', 'not opened', ..., 'not opened',\n",
       "        'not opened', 'not opened'],\n",
       "       ['not opened', 'not opened', 'not opened', ..., 'not opened',\n",
       "        'not opened', 'not opened'],\n",
       "       ['not opened', 'not opened', 'not opened', ..., 'not opened',\n",
       "        'not opened', 'not opened'],\n",
       "       ...,\n",
       "       ['not opened', 'not opened', 'not opened', ..., 'not opened',\n",
       "        'not opened', 'not opened'],\n",
       "       ['not opened', 'not opened', 'not opened', ..., 'not opened',\n",
       "        'not opened', 'not opened'],\n",
       "       ['not opened', 'not opened', 'not opened', ..., 'not opened',\n",
       "        'not opened', 'not opened']], dtype='<U10')"
      ]
     },
     "execution_count": 198,
     "metadata": {},
     "output_type": "execute_result"
    }
   ],
   "source": [
    "\n",
    "#simulation\n",
    "#0 = not opened, 1 = opened\n",
    "sim = np.random.choice(['not clicked','clicked'], size = (10_000, 4326), p = [0.98, 0.02])\n",
    "sim\n",
    "\n"
   ]
  },
  {
   "cell_type": "code",
   "execution_count": 200,
   "metadata": {},
   "outputs": [
    {
     "data": {
      "text/plain": [
       "0.1356"
      ]
     },
     "execution_count": 200,
     "metadata": {},
     "output_type": "execute_result"
    }
   ],
   "source": [
    "((sim == 'clicked').sum(axis=1) >= 97).mean()\n"
   ]
  },
  {
   "cell_type": "code",
   "execution_count": 41,
   "metadata": {},
   "outputs": [
    {
     "data": {
      "text/plain": [
       "0.4576"
      ]
     },
     "execution_count": 41,
     "metadata": {},
     "output_type": "execute_result"
    }
   ],
   "source": [
    "\n",
    "# You are working on some statistics homework consisting of 100 questions \n",
    "# where all of the answers are a probability rounded to the hundreths place. \n",
    "# Looking to save time, you put down random probabilities as the answer to each question.\n",
    "\n",
    "# What is the probability that at least one of your first 60 answers is correct? -- 0.4576\n",
    "probabilities = 1/100\n",
    "stats.binom(60, probabilities).sf(0)\n",
    "\n",
    "#simulation\n",
    "# 0 = not correct, 1 = correct\n",
    "((np.random.choice([0,1], size = (10_000, 60), p =(0.99, 0.01))).sum(axis =1)>0).mean()\n"
   ]
  },
  {
   "cell_type": "code",
   "execution_count": 221,
   "metadata": {},
   "outputs": [
    {
     "data": {
      "text/plain": [
       "0.0004"
      ]
     },
     "execution_count": 221,
     "metadata": {},
     "output_type": "execute_result"
    }
   ],
   "source": [
    "\n",
    "# The codeup staff tends to get upset when the student break area is not cleaned up.\n",
    "# Suppose that there's a 3% chance that any one student cleans the break area when they visit it,\n",
    "# and, on any given day, about 90% of the 3 active cohorts of 22 students visit the break area. \n",
    "# How likely is it that the break area gets cleaned up each day?  -- 0.8362\n",
    "# How likely is it that it goes two days without getting cleaned up? \n",
    "# All week?\n",
    "n_trial = round(.9*3*22)\n",
    "stats.binom(n_trial, 0.03).sf(0)\n",
    "\n",
    "(np.random.choice([0,1], size=(10_000, n_trial), p = (0.97, 0.03)) > 0).any(axis=1).mean()\n",
    "\n",
    "#2 days without cleaning -- 0.0275\n",
    "stats.binom(n_trial * 2, 0.03).pmf(0)\n",
    "\n",
    "(np.random.choice([0,1], size=(10_000, n_trial *2), p = (0.97, 0.03)) == 0).all(axis=1).mean()\n",
    "\n",
    "#5days without cleaning -- 0.000125\n",
    "stats.binom(n_trial * 5, 0.03).pmf(0)\n",
    "\n",
    "(np.random.choice([0,1], size=(10_000, n_trial*5), p = (0.97, 0.03)) == 0).all(axis=1).mean() # -- 0.0004\n"
   ]
  },
  {
   "cell_type": "code",
   "execution_count": 70,
   "metadata": {},
   "outputs": [
    {
     "data": {
      "text/plain": [
       "0.6914624612740131"
      ]
     },
     "execution_count": 70,
     "metadata": {},
     "output_type": "execute_result"
    }
   ],
   "source": [
    "\n",
    "# You want to get lunch at La Panaderia, but notice that the line is usually very long at lunchtime.\n",
    "# After several weeks of careful observation, you notice that the average number of people\n",
    "# in line when your lunch break starts is normally distributed with a mean of 15 and standard deviation of 3. \n",
    "# If it takes 2 minutes for each person to order, and 10 minutes from ordering to getting your food, \n",
    "# what is the likelihood that you have at least 15 minutes left to eat your food before you have to go back to class? \n",
    "# Assume you have one hour for lunch, and ignore travel time to and from La Panaderia.\n",
    "\n",
    "# Change the person into minutes (2 minutes per person to order)\n",
    "# 30 minutes average waiting with std of 6 minutes\n",
    "# likelihood of having 15 left is equivalent to the likelihood of order coming out under 45 minutes, given lunch is an hour.\n",
    "# 45 minutes is subracted by 10 minutes to receive food and 2 minutes to order food -- 0.6915\n",
    "stats.norm(15 * 2, 3 * 2).cdf(33)\n",
    "\n",
    "#simulation -- 0.6837\n",
    "(np.random.normal(30, 6, size = (10_000)) <= 33).mean()\n"
   ]
  },
  {
   "cell_type": "code",
   "execution_count": 78,
   "metadata": {},
   "outputs": [
    {
     "data": {
      "text/html": [
       "<div>\n",
       "<style scoped>\n",
       "    .dataframe tbody tr th:only-of-type {\n",
       "        vertical-align: middle;\n",
       "    }\n",
       "\n",
       "    .dataframe tbody tr th {\n",
       "        vertical-align: top;\n",
       "    }\n",
       "\n",
       "    .dataframe thead th {\n",
       "        text-align: right;\n",
       "    }\n",
       "</style>\n",
       "<table border=\"1\" class=\"dataframe\">\n",
       "  <thead>\n",
       "    <tr style=\"text-align: right;\">\n",
       "      <th></th>\n",
       "      <th>emp_no</th>\n",
       "      <th>salary</th>\n",
       "      <th>from_date</th>\n",
       "      <th>to_date</th>\n",
       "    </tr>\n",
       "  </thead>\n",
       "  <tbody>\n",
       "    <tr>\n",
       "      <th>0</th>\n",
       "      <td>10001</td>\n",
       "      <td>88958</td>\n",
       "      <td>2002-06-22</td>\n",
       "      <td>9999-01-01</td>\n",
       "    </tr>\n",
       "    <tr>\n",
       "      <th>1</th>\n",
       "      <td>10002</td>\n",
       "      <td>72527</td>\n",
       "      <td>2001-08-02</td>\n",
       "      <td>9999-01-01</td>\n",
       "    </tr>\n",
       "    <tr>\n",
       "      <th>2</th>\n",
       "      <td>10003</td>\n",
       "      <td>43311</td>\n",
       "      <td>2001-12-01</td>\n",
       "      <td>9999-01-01</td>\n",
       "    </tr>\n",
       "    <tr>\n",
       "      <th>3</th>\n",
       "      <td>10004</td>\n",
       "      <td>74057</td>\n",
       "      <td>2001-11-27</td>\n",
       "      <td>9999-01-01</td>\n",
       "    </tr>\n",
       "    <tr>\n",
       "      <th>4</th>\n",
       "      <td>10005</td>\n",
       "      <td>94692</td>\n",
       "      <td>2001-09-09</td>\n",
       "      <td>9999-01-01</td>\n",
       "    </tr>\n",
       "    <tr>\n",
       "      <th>...</th>\n",
       "      <td>...</td>\n",
       "      <td>...</td>\n",
       "      <td>...</td>\n",
       "      <td>...</td>\n",
       "    </tr>\n",
       "    <tr>\n",
       "      <th>240119</th>\n",
       "      <td>499995</td>\n",
       "      <td>52868</td>\n",
       "      <td>2002-06-01</td>\n",
       "      <td>9999-01-01</td>\n",
       "    </tr>\n",
       "    <tr>\n",
       "      <th>240120</th>\n",
       "      <td>499996</td>\n",
       "      <td>69501</td>\n",
       "      <td>2002-05-12</td>\n",
       "      <td>9999-01-01</td>\n",
       "    </tr>\n",
       "    <tr>\n",
       "      <th>240121</th>\n",
       "      <td>499997</td>\n",
       "      <td>83441</td>\n",
       "      <td>2001-08-26</td>\n",
       "      <td>9999-01-01</td>\n",
       "    </tr>\n",
       "    <tr>\n",
       "      <th>240122</th>\n",
       "      <td>499998</td>\n",
       "      <td>55003</td>\n",
       "      <td>2001-12-25</td>\n",
       "      <td>9999-01-01</td>\n",
       "    </tr>\n",
       "    <tr>\n",
       "      <th>240123</th>\n",
       "      <td>499999</td>\n",
       "      <td>77303</td>\n",
       "      <td>2001-11-29</td>\n",
       "      <td>9999-01-01</td>\n",
       "    </tr>\n",
       "  </tbody>\n",
       "</table>\n",
       "<p>240124 rows × 4 columns</p>\n",
       "</div>"
      ],
      "text/plain": [
       "        emp_no  salary   from_date     to_date\n",
       "0        10001   88958  2002-06-22  9999-01-01\n",
       "1        10002   72527  2001-08-02  9999-01-01\n",
       "2        10003   43311  2001-12-01  9999-01-01\n",
       "3        10004   74057  2001-11-27  9999-01-01\n",
       "4        10005   94692  2001-09-09  9999-01-01\n",
       "...        ...     ...         ...         ...\n",
       "240119  499995   52868  2002-06-01  9999-01-01\n",
       "240120  499996   69501  2002-05-12  9999-01-01\n",
       "240121  499997   83441  2001-08-26  9999-01-01\n",
       "240122  499998   55003  2001-12-25  9999-01-01\n",
       "240123  499999   77303  2001-11-29  9999-01-01\n",
       "\n",
       "[240124 rows x 4 columns]"
      ]
     },
     "execution_count": 78,
     "metadata": {},
     "output_type": "execute_result"
    }
   ],
   "source": [
    "\n",
    "# Connect to the employees database and find the average salary of current employees, along with the standard deviation.\n",
    "from env import get_db_url\n",
    "\n",
    "url = get_db_url('employees')\n",
    "query = '''\n",
    "        SELECT *\n",
    "        FROM salaries s\n",
    "        WHERE s.to_date > NOW()\n",
    "        '''\n",
    "emp_salary = pd.read_sql(query, url)\n",
    "emp_salary\n"
   ]
  },
  {
   "cell_type": "code",
   "execution_count": 164,
   "metadata": {},
   "outputs": [
    {
     "data": {
      "text/plain": [
       "0.2705727041028802"
      ]
     },
     "execution_count": 164,
     "metadata": {},
     "output_type": "execute_result"
    }
   ],
   "source": [
    "\n",
    "emp_salary.describe()\n",
    "\n",
    "avg_salary = emp_salary.salary.mean()\n",
    "std_salary = emp_salary.salary.std()\n",
    "#  For the following questions, calculate the answer based on modeling the employees salaries \n",
    "# with a normal distribution defined by the calculated mean and standard deviation\n",
    "#  then compare this answer to the actual values present in the salaries dataset.\n",
    "\n",
    "\n",
    "# What percent of employees earn less than 60,000? -- 24.39%\n",
    "stats.norm(avg_salary,std_salary).cdf(60_000)\n",
    "\n",
    "(emp_salary.salary < 60000).mean() # -- 27.06%\n"
   ]
  },
  {
   "cell_type": "code",
   "execution_count": 166,
   "metadata": {},
   "outputs": [
    {
     "data": {
      "text/plain": [
       "0.1086272092752078"
      ]
     },
     "execution_count": 166,
     "metadata": {},
     "output_type": "execute_result"
    }
   ],
   "source": [
    "\n",
    "# What percent of employees earn more than 95,000? -- 9.21%\n",
    "stats.norm(avg_salary,std_salary).sf(95_000)\n",
    "\n",
    "(emp_salary.salary > 95000).mean() # -- 10.86%\n"
   ]
  },
  {
   "cell_type": "code",
   "execution_count": 173,
   "metadata": {},
   "outputs": [
    {
     "data": {
      "text/plain": [
       "0.325107028035515"
      ]
     },
     "execution_count": 173,
     "metadata": {},
     "output_type": "execute_result"
    }
   ],
   "source": [
    "\n",
    "# What percent of employees earn between 65,000 and 80,000? \n",
    "# -- array([0.65729708, 0.32223651])\n",
    "# 33.51%\n",
    "stats.norm(avg_salary,std_salary).sf([65_000, 80_000])\n",
    "0.65729708 - 0.32223651\n",
    "\n",
    "((emp_salary.salary < 80000) & (emp_salary.salary > 65000)).mean() # -- 32.51%"
   ]
  },
  {
   "cell_type": "code",
   "execution_count": 174,
   "metadata": {},
   "outputs": [
    {
     "data": {
      "text/plain": [
       "100484.64454102777"
      ]
     },
     "execution_count": 174,
     "metadata": {},
     "output_type": "execute_result"
    }
   ],
   "source": [
    "\n",
    "# What do the top 5% of employees make? -- $100,484.64\n",
    "stats.norm(avg_salary,std_salary).isf(0.05)\n",
    "\n",
    "# (emp_salary.salary)\n",
    "\n",
    "# Hint If you're looking at this exercise and wondering \"How do I get pandas to talk the database, again?\", \n",
    "# remember that you'll need 3 things: your .gitignore, your env.py, and to use pd.read_sql.\n"
   ]
  },
  {
   "cell_type": "code",
   "execution_count": null,
   "metadata": {},
   "outputs": [],
   "source": [
    "\n",
    "# Be sure to run the following 2 commands from your terminal:\n",
    "#  1. cp ~/codeup-data-science/numpy-pandas-visualization-exercises/.gitignore ~/codeup-data-science/statistics-exercises\n",
    "#  to ensure that your stats repo has a known-good gitignore \n",
    "# 2. cp ~/codeup-data-science/numpy-pandas-exercises/env.py ~/codeup-data-science/statistics-exercises \n",
    "# to ensure that pandas will have access to your db credentials."
   ]
  }
 ],
 "metadata": {
  "interpreter": {
   "hash": "38cca0c38332a56087b24af0bc80247f4fced29cb4f7f437d91dc159adec9c4e"
  },
  "kernelspec": {
   "display_name": "Python 3.9.7 64-bit ('base': conda)",
   "language": "python",
   "name": "python3"
  },
  "language_info": {
   "codemirror_mode": {
    "name": "ipython",
    "version": 3
   },
   "file_extension": ".py",
   "mimetype": "text/x-python",
   "name": "python",
   "nbconvert_exporter": "python",
   "pygments_lexer": "ipython3",
   "version": "3.9.7"
  },
  "orig_nbformat": 4
 },
 "nbformat": 4,
 "nbformat_minor": 2
}
